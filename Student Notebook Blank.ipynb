{
 "cells": [
  {
   "cell_type": "markdown",
   "id": "7b16292b",
   "metadata": {},
   "source": [
    "# Data in Motion Tourism Company"
   ]
  },
  {
   "cell_type": "markdown",
   "id": "c9bef11a",
   "metadata": {},
   "source": [
    "## Business Problem:\n",
    "\n",
    "The main business problem is to increase the conversion rate of product pitches into actual sales. To do this, the company needs to:\n",
    "\n",
    "- Understand the characteristics and preferences of their customers.\n",
    "- Understand the factors that influence a customer's decision to purchase a product.\n",
    "- Tailor their products and marketing strategies to better meet the needs and preferences of their customers.\n",
    "- Improve the effectiveness of their product pitches and follow-ups.\n",
    "- Enhance customer satisfaction with the product pitches.\n",
    "- By addressing these issues, the company can increase the likelihood that a customer will purchase a product after a pitch, - thereby increasing sales and revenue."
   ]
  },
  {
   "cell_type": "markdown",
   "id": "e649c735",
   "metadata": {},
   "source": [
    "# **Data Description:**\n",
    "\n",
    "- CustomerID: Unique customer ID\n",
    "- ProdTaken: Whether the customer has purchased a package or not (0: No, 1: Yes)\n",
    "- Age: Age of customer\n",
    "- TypeofContact: How customer was contacted (Company Invited or Self Inquiry)\n",
    "- CityTier: City tier depends on the development of a city, population, facilities, and living standards. The categories are ordered i.e. Tier 1 > Tier 2 > Tier 3\n",
    "- DurationOfPitch: Duration of the pitch by a salesperson to the customer\n",
    "- Occupation: Occupation of customer\n",
    "- Gender: Gender of customer\n",
    "- NumberOfPersonVisiting: Total number of persons planning to take the trip with the customer\n",
    "- NumberOfFollowups: Total number of follow-ups has been done by the salesperson after the sales pitch\n",
    "- ProductPitched: Product pitched by the salesperson\n",
    "- PreferredPropertyStar: Preferred hotel property rating by customer\n",
    "- MaritalStatus: Marital status of customer\n",
    "- NumberOfTrips: Average number of trips in a year by customer\n",
    "- Passport: The customer has a passport or not (0: No, 1: Yes)\n",
    "- PitchSatisfactionScore: Sales pitch satisfaction score\n",
    "- OwnCar: Whether the customers own a car or not (0: No, 1: Yes)\n",
    "- NumberOfChildrenVisiting: Total number of children with age less than 5 planning to take the trip with the customer\n",
    "- Designation: Designation of the customer in the current organization\n",
    "- MonthlyIncome: Gross monthly income of the customer"
   ]
  },
  {
   "cell_type": "markdown",
   "id": "e6b3ad33",
   "metadata": {},
   "source": [
    "# Import Libraries"
   ]
  },
  {
   "cell_type": "code",
   "execution_count": 4,
   "id": "c82f18c2",
   "metadata": {},
   "outputs": [],
   "source": [
    "import pandas as pd\n",
    "import numpy as np\n",
    "\n",
    "import matplotlib.pyplot as plt\n",
    "\n",
    "%matplotlib inline\n",
    "import seaborn as sns\n",
    "\n",
    "import statsmodels.api as sm\n",
    "import scipy.stats as stats"
   ]
  },
  {
   "cell_type": "markdown",
   "id": "e7e068ea",
   "metadata": {},
   "source": [
    "# Import Data"
   ]
  },
  {
   "cell_type": "code",
   "execution_count": 5,
   "id": "b6b10ec7",
   "metadata": {},
   "outputs": [
    {
     "name": "stdout",
     "output_type": "stream",
     "text": [
      "There are 4888 rows and 20 columns\n"
     ]
    }
   ],
   "source": [
    "# Load Excel File\n",
    "data = \"Tourism.csv\"\n",
    "df = pd.read_csv(data)\n",
    "tour_df = df.copy()\n",
    "\n",
    "print(f\"There are {tour_df.shape[0]} rows and {tour_df.shape[1]} columns\")"
   ]
  },
  {
   "cell_type": "code",
   "execution_count": 8,
   "id": "5bbc3815",
   "metadata": {},
   "outputs": [
    {
     "data": {
      "text/html": [
       "<div>\n",
       "<style scoped>\n",
       "    .dataframe tbody tr th:only-of-type {\n",
       "        vertical-align: middle;\n",
       "    }\n",
       "\n",
       "    .dataframe tbody tr th {\n",
       "        vertical-align: top;\n",
       "    }\n",
       "\n",
       "    .dataframe thead th {\n",
       "        text-align: right;\n",
       "    }\n",
       "</style>\n",
       "<table border=\"1\" class=\"dataframe\">\n",
       "  <thead>\n",
       "    <tr style=\"text-align: right;\">\n",
       "      <th></th>\n",
       "      <th>CustomerID</th>\n",
       "      <th>ProdTaken</th>\n",
       "      <th>Age</th>\n",
       "      <th>TypeofContact</th>\n",
       "      <th>CityTier</th>\n",
       "      <th>DurationOfPitch</th>\n",
       "      <th>Occupation</th>\n",
       "      <th>Gender</th>\n",
       "      <th>NumberOfPersonVisiting</th>\n",
       "      <th>NumberOfFollowups</th>\n",
       "      <th>ProductPitched</th>\n",
       "      <th>PreferredPropertyStar</th>\n",
       "      <th>MaritalStatus</th>\n",
       "      <th>NumberOfTrips</th>\n",
       "      <th>Passport</th>\n",
       "      <th>PitchSatisfactionScore</th>\n",
       "      <th>OwnCar</th>\n",
       "      <th>NumberOfChildrenVisiting</th>\n",
       "      <th>Designation</th>\n",
       "      <th>MonthlyIncome</th>\n",
       "    </tr>\n",
       "  </thead>\n",
       "  <tbody>\n",
       "    <tr>\n",
       "      <th>0</th>\n",
       "      <td>200000</td>\n",
       "      <td>1</td>\n",
       "      <td>41.0</td>\n",
       "      <td>Self Enquiry</td>\n",
       "      <td>3</td>\n",
       "      <td>6.0</td>\n",
       "      <td>Salaried</td>\n",
       "      <td>Female</td>\n",
       "      <td>3</td>\n",
       "      <td>3.0</td>\n",
       "      <td>Deluxe</td>\n",
       "      <td>3.0</td>\n",
       "      <td>Single</td>\n",
       "      <td>1.0</td>\n",
       "      <td>1</td>\n",
       "      <td>2</td>\n",
       "      <td>1</td>\n",
       "      <td>0.0</td>\n",
       "      <td>Manager</td>\n",
       "      <td>20993.0</td>\n",
       "    </tr>\n",
       "    <tr>\n",
       "      <th>1</th>\n",
       "      <td>200001</td>\n",
       "      <td>0</td>\n",
       "      <td>49.0</td>\n",
       "      <td>Company Invited</td>\n",
       "      <td>1</td>\n",
       "      <td>14.0</td>\n",
       "      <td>Salaried</td>\n",
       "      <td>Male</td>\n",
       "      <td>3</td>\n",
       "      <td>4.0</td>\n",
       "      <td>Deluxe</td>\n",
       "      <td>4.0</td>\n",
       "      <td>Divorced</td>\n",
       "      <td>2.0</td>\n",
       "      <td>0</td>\n",
       "      <td>3</td>\n",
       "      <td>1</td>\n",
       "      <td>2.0</td>\n",
       "      <td>Manager</td>\n",
       "      <td>20130.0</td>\n",
       "    </tr>\n",
       "    <tr>\n",
       "      <th>2</th>\n",
       "      <td>200002</td>\n",
       "      <td>1</td>\n",
       "      <td>37.0</td>\n",
       "      <td>Self Enquiry</td>\n",
       "      <td>1</td>\n",
       "      <td>8.0</td>\n",
       "      <td>Free Lancer</td>\n",
       "      <td>Male</td>\n",
       "      <td>3</td>\n",
       "      <td>4.0</td>\n",
       "      <td>Basic</td>\n",
       "      <td>3.0</td>\n",
       "      <td>Single</td>\n",
       "      <td>7.0</td>\n",
       "      <td>1</td>\n",
       "      <td>3</td>\n",
       "      <td>0</td>\n",
       "      <td>0.0</td>\n",
       "      <td>Executive</td>\n",
       "      <td>17090.0</td>\n",
       "    </tr>\n",
       "    <tr>\n",
       "      <th>3</th>\n",
       "      <td>200003</td>\n",
       "      <td>0</td>\n",
       "      <td>33.0</td>\n",
       "      <td>Company Invited</td>\n",
       "      <td>1</td>\n",
       "      <td>9.0</td>\n",
       "      <td>Salaried</td>\n",
       "      <td>Female</td>\n",
       "      <td>2</td>\n",
       "      <td>3.0</td>\n",
       "      <td>Basic</td>\n",
       "      <td>3.0</td>\n",
       "      <td>Divorced</td>\n",
       "      <td>2.0</td>\n",
       "      <td>1</td>\n",
       "      <td>5</td>\n",
       "      <td>1</td>\n",
       "      <td>1.0</td>\n",
       "      <td>Executive</td>\n",
       "      <td>17909.0</td>\n",
       "    </tr>\n",
       "    <tr>\n",
       "      <th>4</th>\n",
       "      <td>200004</td>\n",
       "      <td>0</td>\n",
       "      <td>NaN</td>\n",
       "      <td>Self Enquiry</td>\n",
       "      <td>1</td>\n",
       "      <td>8.0</td>\n",
       "      <td>Small Business</td>\n",
       "      <td>Male</td>\n",
       "      <td>2</td>\n",
       "      <td>3.0</td>\n",
       "      <td>Basic</td>\n",
       "      <td>4.0</td>\n",
       "      <td>Divorced</td>\n",
       "      <td>1.0</td>\n",
       "      <td>0</td>\n",
       "      <td>5</td>\n",
       "      <td>1</td>\n",
       "      <td>0.0</td>\n",
       "      <td>Executive</td>\n",
       "      <td>18468.0</td>\n",
       "    </tr>\n",
       "  </tbody>\n",
       "</table>\n",
       "</div>"
      ],
      "text/plain": [
       "   CustomerID  ProdTaken   Age    TypeofContact  CityTier  DurationOfPitch  \\\n",
       "0      200000          1  41.0     Self Enquiry         3              6.0   \n",
       "1      200001          0  49.0  Company Invited         1             14.0   \n",
       "2      200002          1  37.0     Self Enquiry         1              8.0   \n",
       "3      200003          0  33.0  Company Invited         1              9.0   \n",
       "4      200004          0   NaN     Self Enquiry         1              8.0   \n",
       "\n",
       "       Occupation  Gender  NumberOfPersonVisiting  NumberOfFollowups  \\\n",
       "0        Salaried  Female                       3                3.0   \n",
       "1        Salaried    Male                       3                4.0   \n",
       "2     Free Lancer    Male                       3                4.0   \n",
       "3        Salaried  Female                       2                3.0   \n",
       "4  Small Business    Male                       2                3.0   \n",
       "\n",
       "  ProductPitched  PreferredPropertyStar MaritalStatus  NumberOfTrips  \\\n",
       "0         Deluxe                    3.0        Single            1.0   \n",
       "1         Deluxe                    4.0      Divorced            2.0   \n",
       "2          Basic                    3.0        Single            7.0   \n",
       "3          Basic                    3.0      Divorced            2.0   \n",
       "4          Basic                    4.0      Divorced            1.0   \n",
       "\n",
       "   Passport  PitchSatisfactionScore  OwnCar  NumberOfChildrenVisiting  \\\n",
       "0         1                       2       1                       0.0   \n",
       "1         0                       3       1                       2.0   \n",
       "2         1                       3       0                       0.0   \n",
       "3         1                       5       1                       1.0   \n",
       "4         0                       5       1                       0.0   \n",
       "\n",
       "  Designation  MonthlyIncome  \n",
       "0     Manager        20993.0  \n",
       "1     Manager        20130.0  \n",
       "2   Executive        17090.0  \n",
       "3   Executive        17909.0  \n",
       "4   Executive        18468.0  "
      ]
     },
     "execution_count": 8,
     "metadata": {},
     "output_type": "execute_result"
    }
   ],
   "source": [
    "tour_df.head()"
   ]
  },
  {
   "cell_type": "code",
   "execution_count": 10,
   "id": "93584494",
   "metadata": {},
   "outputs": [
    {
     "data": {
      "text/html": [
       "<div>\n",
       "<style scoped>\n",
       "    .dataframe tbody tr th:only-of-type {\n",
       "        vertical-align: middle;\n",
       "    }\n",
       "\n",
       "    .dataframe tbody tr th {\n",
       "        vertical-align: top;\n",
       "    }\n",
       "\n",
       "    .dataframe thead th {\n",
       "        text-align: right;\n",
       "    }\n",
       "</style>\n",
       "<table border=\"1\" class=\"dataframe\">\n",
       "  <thead>\n",
       "    <tr style=\"text-align: right;\">\n",
       "      <th></th>\n",
       "      <th>CustomerID</th>\n",
       "      <th>ProdTaken</th>\n",
       "      <th>Age</th>\n",
       "      <th>TypeofContact</th>\n",
       "      <th>CityTier</th>\n",
       "      <th>DurationOfPitch</th>\n",
       "      <th>Occupation</th>\n",
       "      <th>Gender</th>\n",
       "      <th>NumberOfPersonVisiting</th>\n",
       "      <th>NumberOfFollowups</th>\n",
       "      <th>ProductPitched</th>\n",
       "      <th>PreferredPropertyStar</th>\n",
       "      <th>MaritalStatus</th>\n",
       "      <th>NumberOfTrips</th>\n",
       "      <th>Passport</th>\n",
       "      <th>PitchSatisfactionScore</th>\n",
       "      <th>OwnCar</th>\n",
       "      <th>NumberOfChildrenVisiting</th>\n",
       "      <th>Designation</th>\n",
       "      <th>MonthlyIncome</th>\n",
       "    </tr>\n",
       "  </thead>\n",
       "  <tbody>\n",
       "    <tr>\n",
       "      <th>4883</th>\n",
       "      <td>204883</td>\n",
       "      <td>1</td>\n",
       "      <td>49.0</td>\n",
       "      <td>Self Enquiry</td>\n",
       "      <td>3</td>\n",
       "      <td>9.0</td>\n",
       "      <td>Small Business</td>\n",
       "      <td>Male</td>\n",
       "      <td>3</td>\n",
       "      <td>5.0</td>\n",
       "      <td>Deluxe</td>\n",
       "      <td>4.0</td>\n",
       "      <td>Unmarried</td>\n",
       "      <td>2.0</td>\n",
       "      <td>1</td>\n",
       "      <td>1</td>\n",
       "      <td>1</td>\n",
       "      <td>1.0</td>\n",
       "      <td>Manager</td>\n",
       "      <td>26576.0</td>\n",
       "    </tr>\n",
       "    <tr>\n",
       "      <th>4884</th>\n",
       "      <td>204884</td>\n",
       "      <td>1</td>\n",
       "      <td>28.0</td>\n",
       "      <td>Company Invited</td>\n",
       "      <td>1</td>\n",
       "      <td>31.0</td>\n",
       "      <td>Salaried</td>\n",
       "      <td>Male</td>\n",
       "      <td>4</td>\n",
       "      <td>5.0</td>\n",
       "      <td>Basic</td>\n",
       "      <td>3.0</td>\n",
       "      <td>Single</td>\n",
       "      <td>3.0</td>\n",
       "      <td>1</td>\n",
       "      <td>3</td>\n",
       "      <td>1</td>\n",
       "      <td>2.0</td>\n",
       "      <td>Executive</td>\n",
       "      <td>21212.0</td>\n",
       "    </tr>\n",
       "    <tr>\n",
       "      <th>4885</th>\n",
       "      <td>204885</td>\n",
       "      <td>1</td>\n",
       "      <td>52.0</td>\n",
       "      <td>Self Enquiry</td>\n",
       "      <td>3</td>\n",
       "      <td>17.0</td>\n",
       "      <td>Salaried</td>\n",
       "      <td>Female</td>\n",
       "      <td>4</td>\n",
       "      <td>4.0</td>\n",
       "      <td>Standard</td>\n",
       "      <td>4.0</td>\n",
       "      <td>Married</td>\n",
       "      <td>7.0</td>\n",
       "      <td>0</td>\n",
       "      <td>1</td>\n",
       "      <td>1</td>\n",
       "      <td>3.0</td>\n",
       "      <td>Senior Manager</td>\n",
       "      <td>31820.0</td>\n",
       "    </tr>\n",
       "    <tr>\n",
       "      <th>4886</th>\n",
       "      <td>204886</td>\n",
       "      <td>1</td>\n",
       "      <td>19.0</td>\n",
       "      <td>Self Enquiry</td>\n",
       "      <td>3</td>\n",
       "      <td>16.0</td>\n",
       "      <td>Small Business</td>\n",
       "      <td>Male</td>\n",
       "      <td>3</td>\n",
       "      <td>4.0</td>\n",
       "      <td>Basic</td>\n",
       "      <td>3.0</td>\n",
       "      <td>Single</td>\n",
       "      <td>3.0</td>\n",
       "      <td>0</td>\n",
       "      <td>5</td>\n",
       "      <td>0</td>\n",
       "      <td>2.0</td>\n",
       "      <td>Executive</td>\n",
       "      <td>20289.0</td>\n",
       "    </tr>\n",
       "    <tr>\n",
       "      <th>4887</th>\n",
       "      <td>204887</td>\n",
       "      <td>1</td>\n",
       "      <td>36.0</td>\n",
       "      <td>Self Enquiry</td>\n",
       "      <td>1</td>\n",
       "      <td>14.0</td>\n",
       "      <td>Salaried</td>\n",
       "      <td>Male</td>\n",
       "      <td>4</td>\n",
       "      <td>4.0</td>\n",
       "      <td>Basic</td>\n",
       "      <td>4.0</td>\n",
       "      <td>Unmarried</td>\n",
       "      <td>3.0</td>\n",
       "      <td>1</td>\n",
       "      <td>3</td>\n",
       "      <td>1</td>\n",
       "      <td>2.0</td>\n",
       "      <td>Executive</td>\n",
       "      <td>24041.0</td>\n",
       "    </tr>\n",
       "  </tbody>\n",
       "</table>\n",
       "</div>"
      ],
      "text/plain": [
       "      CustomerID  ProdTaken   Age    TypeofContact  CityTier  DurationOfPitch  \\\n",
       "4883      204883          1  49.0     Self Enquiry         3              9.0   \n",
       "4884      204884          1  28.0  Company Invited         1             31.0   \n",
       "4885      204885          1  52.0     Self Enquiry         3             17.0   \n",
       "4886      204886          1  19.0     Self Enquiry         3             16.0   \n",
       "4887      204887          1  36.0     Self Enquiry         1             14.0   \n",
       "\n",
       "          Occupation  Gender  NumberOfPersonVisiting  NumberOfFollowups  \\\n",
       "4883  Small Business    Male                       3                5.0   \n",
       "4884        Salaried    Male                       4                5.0   \n",
       "4885        Salaried  Female                       4                4.0   \n",
       "4886  Small Business    Male                       3                4.0   \n",
       "4887        Salaried    Male                       4                4.0   \n",
       "\n",
       "     ProductPitched  PreferredPropertyStar MaritalStatus  NumberOfTrips  \\\n",
       "4883         Deluxe                    4.0     Unmarried            2.0   \n",
       "4884          Basic                    3.0        Single            3.0   \n",
       "4885       Standard                    4.0       Married            7.0   \n",
       "4886          Basic                    3.0        Single            3.0   \n",
       "4887          Basic                    4.0     Unmarried            3.0   \n",
       "\n",
       "      Passport  PitchSatisfactionScore  OwnCar  NumberOfChildrenVisiting  \\\n",
       "4883         1                       1       1                       1.0   \n",
       "4884         1                       3       1                       2.0   \n",
       "4885         0                       1       1                       3.0   \n",
       "4886         0                       5       0                       2.0   \n",
       "4887         1                       3       1                       2.0   \n",
       "\n",
       "         Designation  MonthlyIncome  \n",
       "4883         Manager        26576.0  \n",
       "4884       Executive        21212.0  \n",
       "4885  Senior Manager        31820.0  \n",
       "4886       Executive        20289.0  \n",
       "4887       Executive        24041.0  "
      ]
     },
     "execution_count": 10,
     "metadata": {},
     "output_type": "execute_result"
    }
   ],
   "source": [
    "tour_df.tail()"
   ]
  },
  {
   "cell_type": "markdown",
   "id": "e46fa43f",
   "metadata": {},
   "source": [
    "## Prelimary Checks\n"
   ]
  },
  {
   "cell_type": "markdown",
   "id": "face8e72",
   "metadata": {},
   "source": [
    "### 1. Is there any missing data?"
   ]
  },
  {
   "cell_type": "code",
   "execution_count": null,
   "id": "dbd7a5f9",
   "metadata": {},
   "outputs": [],
   "source": [
    "# Examine "
   ]
  },
  {
   "cell_type": "code",
   "execution_count": 6,
   "id": "86d6e983",
   "metadata": {},
   "outputs": [
    {
     "data": {
      "text/plain": [
       "CustomerID                    0\n",
       "ProdTaken                     0\n",
       "Age                         226\n",
       "TypeofContact                25\n",
       "CityTier                      0\n",
       "DurationOfPitch             251\n",
       "Occupation                    0\n",
       "Gender                        0\n",
       "NumberOfPersonVisiting        0\n",
       "NumberOfFollowups            45\n",
       "ProductPitched                0\n",
       "PreferredPropertyStar        26\n",
       "MaritalStatus                 0\n",
       "NumberOfTrips               140\n",
       "Passport                      0\n",
       "PitchSatisfactionScore        0\n",
       "OwnCar                        0\n",
       "NumberOfChildrenVisiting     66\n",
       "Designation                   0\n",
       "MonthlyIncome               233\n",
       "dtype: int64"
      ]
     },
     "execution_count": 6,
     "metadata": {},
     "output_type": "execute_result"
    }
   ],
   "source": [
    "df.isna().sum() "
   ]
  },
  {
   "cell_type": "code",
   "execution_count": 11,
   "id": "879332c1",
   "metadata": {},
   "outputs": [
    {
     "data": {
      "text/plain": [
       "1012"
      ]
     },
     "execution_count": 11,
     "metadata": {},
     "output_type": "execute_result"
    }
   ],
   "source": [
    "tour_df.isna().sum().sum()"
   ]
  },
  {
   "cell_type": "markdown",
   "id": "e2de9c39",
   "metadata": {},
   "source": [
    "### 2. Provide a basic statistical summary of the dataset. What observations can you point out?"
   ]
  },
  {
   "cell_type": "code",
   "execution_count": 13,
   "id": "836c3470",
   "metadata": {},
   "outputs": [
    {
     "data": {
      "text/html": [
       "<div>\n",
       "<style scoped>\n",
       "    .dataframe tbody tr th:only-of-type {\n",
       "        vertical-align: middle;\n",
       "    }\n",
       "\n",
       "    .dataframe tbody tr th {\n",
       "        vertical-align: top;\n",
       "    }\n",
       "\n",
       "    .dataframe thead th {\n",
       "        text-align: right;\n",
       "    }\n",
       "</style>\n",
       "<table border=\"1\" class=\"dataframe\">\n",
       "  <thead>\n",
       "    <tr style=\"text-align: right;\">\n",
       "      <th></th>\n",
       "      <th>count</th>\n",
       "      <th>mean</th>\n",
       "      <th>std</th>\n",
       "      <th>min</th>\n",
       "      <th>25%</th>\n",
       "      <th>50%</th>\n",
       "      <th>75%</th>\n",
       "      <th>max</th>\n",
       "    </tr>\n",
       "  </thead>\n",
       "  <tbody>\n",
       "    <tr>\n",
       "      <th>CustomerID</th>\n",
       "      <td>4888.0</td>\n",
       "      <td>202443.500000</td>\n",
       "      <td>1411.188388</td>\n",
       "      <td>200000.0</td>\n",
       "      <td>201221.75</td>\n",
       "      <td>202443.5</td>\n",
       "      <td>203665.25</td>\n",
       "      <td>204887.0</td>\n",
       "    </tr>\n",
       "    <tr>\n",
       "      <th>ProdTaken</th>\n",
       "      <td>4888.0</td>\n",
       "      <td>0.188216</td>\n",
       "      <td>0.390925</td>\n",
       "      <td>0.0</td>\n",
       "      <td>0.00</td>\n",
       "      <td>0.0</td>\n",
       "      <td>0.00</td>\n",
       "      <td>1.0</td>\n",
       "    </tr>\n",
       "    <tr>\n",
       "      <th>Age</th>\n",
       "      <td>4662.0</td>\n",
       "      <td>37.622265</td>\n",
       "      <td>9.316387</td>\n",
       "      <td>18.0</td>\n",
       "      <td>31.00</td>\n",
       "      <td>36.0</td>\n",
       "      <td>44.00</td>\n",
       "      <td>61.0</td>\n",
       "    </tr>\n",
       "    <tr>\n",
       "      <th>CityTier</th>\n",
       "      <td>4888.0</td>\n",
       "      <td>1.654255</td>\n",
       "      <td>0.916583</td>\n",
       "      <td>1.0</td>\n",
       "      <td>1.00</td>\n",
       "      <td>1.0</td>\n",
       "      <td>3.00</td>\n",
       "      <td>3.0</td>\n",
       "    </tr>\n",
       "    <tr>\n",
       "      <th>DurationOfPitch</th>\n",
       "      <td>4637.0</td>\n",
       "      <td>15.490835</td>\n",
       "      <td>8.519643</td>\n",
       "      <td>5.0</td>\n",
       "      <td>9.00</td>\n",
       "      <td>13.0</td>\n",
       "      <td>20.00</td>\n",
       "      <td>127.0</td>\n",
       "    </tr>\n",
       "    <tr>\n",
       "      <th>NumberOfPersonVisiting</th>\n",
       "      <td>4888.0</td>\n",
       "      <td>2.905074</td>\n",
       "      <td>0.724891</td>\n",
       "      <td>1.0</td>\n",
       "      <td>2.00</td>\n",
       "      <td>3.0</td>\n",
       "      <td>3.00</td>\n",
       "      <td>5.0</td>\n",
       "    </tr>\n",
       "    <tr>\n",
       "      <th>NumberOfFollowups</th>\n",
       "      <td>4843.0</td>\n",
       "      <td>3.708445</td>\n",
       "      <td>1.002509</td>\n",
       "      <td>1.0</td>\n",
       "      <td>3.00</td>\n",
       "      <td>4.0</td>\n",
       "      <td>4.00</td>\n",
       "      <td>6.0</td>\n",
       "    </tr>\n",
       "    <tr>\n",
       "      <th>PreferredPropertyStar</th>\n",
       "      <td>4862.0</td>\n",
       "      <td>3.581037</td>\n",
       "      <td>0.798009</td>\n",
       "      <td>3.0</td>\n",
       "      <td>3.00</td>\n",
       "      <td>3.0</td>\n",
       "      <td>4.00</td>\n",
       "      <td>5.0</td>\n",
       "    </tr>\n",
       "    <tr>\n",
       "      <th>NumberOfTrips</th>\n",
       "      <td>4748.0</td>\n",
       "      <td>3.236521</td>\n",
       "      <td>1.849019</td>\n",
       "      <td>1.0</td>\n",
       "      <td>2.00</td>\n",
       "      <td>3.0</td>\n",
       "      <td>4.00</td>\n",
       "      <td>22.0</td>\n",
       "    </tr>\n",
       "    <tr>\n",
       "      <th>Passport</th>\n",
       "      <td>4888.0</td>\n",
       "      <td>0.290917</td>\n",
       "      <td>0.454232</td>\n",
       "      <td>0.0</td>\n",
       "      <td>0.00</td>\n",
       "      <td>0.0</td>\n",
       "      <td>1.00</td>\n",
       "      <td>1.0</td>\n",
       "    </tr>\n",
       "    <tr>\n",
       "      <th>PitchSatisfactionScore</th>\n",
       "      <td>4888.0</td>\n",
       "      <td>3.078151</td>\n",
       "      <td>1.365792</td>\n",
       "      <td>1.0</td>\n",
       "      <td>2.00</td>\n",
       "      <td>3.0</td>\n",
       "      <td>4.00</td>\n",
       "      <td>5.0</td>\n",
       "    </tr>\n",
       "    <tr>\n",
       "      <th>OwnCar</th>\n",
       "      <td>4888.0</td>\n",
       "      <td>0.620295</td>\n",
       "      <td>0.485363</td>\n",
       "      <td>0.0</td>\n",
       "      <td>0.00</td>\n",
       "      <td>1.0</td>\n",
       "      <td>1.00</td>\n",
       "      <td>1.0</td>\n",
       "    </tr>\n",
       "    <tr>\n",
       "      <th>NumberOfChildrenVisiting</th>\n",
       "      <td>4822.0</td>\n",
       "      <td>1.187267</td>\n",
       "      <td>0.857861</td>\n",
       "      <td>0.0</td>\n",
       "      <td>1.00</td>\n",
       "      <td>1.0</td>\n",
       "      <td>2.00</td>\n",
       "      <td>3.0</td>\n",
       "    </tr>\n",
       "    <tr>\n",
       "      <th>MonthlyIncome</th>\n",
       "      <td>4655.0</td>\n",
       "      <td>23619.853491</td>\n",
       "      <td>5380.698361</td>\n",
       "      <td>1000.0</td>\n",
       "      <td>20346.00</td>\n",
       "      <td>22347.0</td>\n",
       "      <td>25571.00</td>\n",
       "      <td>98678.0</td>\n",
       "    </tr>\n",
       "  </tbody>\n",
       "</table>\n",
       "</div>"
      ],
      "text/plain": [
       "                           count           mean          std       min  \\\n",
       "CustomerID                4888.0  202443.500000  1411.188388  200000.0   \n",
       "ProdTaken                 4888.0       0.188216     0.390925       0.0   \n",
       "Age                       4662.0      37.622265     9.316387      18.0   \n",
       "CityTier                  4888.0       1.654255     0.916583       1.0   \n",
       "DurationOfPitch           4637.0      15.490835     8.519643       5.0   \n",
       "NumberOfPersonVisiting    4888.0       2.905074     0.724891       1.0   \n",
       "NumberOfFollowups         4843.0       3.708445     1.002509       1.0   \n",
       "PreferredPropertyStar     4862.0       3.581037     0.798009       3.0   \n",
       "NumberOfTrips             4748.0       3.236521     1.849019       1.0   \n",
       "Passport                  4888.0       0.290917     0.454232       0.0   \n",
       "PitchSatisfactionScore    4888.0       3.078151     1.365792       1.0   \n",
       "OwnCar                    4888.0       0.620295     0.485363       0.0   \n",
       "NumberOfChildrenVisiting  4822.0       1.187267     0.857861       0.0   \n",
       "MonthlyIncome             4655.0   23619.853491  5380.698361    1000.0   \n",
       "\n",
       "                                25%       50%        75%       max  \n",
       "CustomerID                201221.75  202443.5  203665.25  204887.0  \n",
       "ProdTaken                      0.00       0.0       0.00       1.0  \n",
       "Age                           31.00      36.0      44.00      61.0  \n",
       "CityTier                       1.00       1.0       3.00       3.0  \n",
       "DurationOfPitch                9.00      13.0      20.00     127.0  \n",
       "NumberOfPersonVisiting         2.00       3.0       3.00       5.0  \n",
       "NumberOfFollowups              3.00       4.0       4.00       6.0  \n",
       "PreferredPropertyStar          3.00       3.0       4.00       5.0  \n",
       "NumberOfTrips                  2.00       3.0       4.00      22.0  \n",
       "Passport                       0.00       0.0       1.00       1.0  \n",
       "PitchSatisfactionScore         2.00       3.0       4.00       5.0  \n",
       "OwnCar                         0.00       1.0       1.00       1.0  \n",
       "NumberOfChildrenVisiting       1.00       1.0       2.00       3.0  \n",
       "MonthlyIncome              20346.00   22347.0   25571.00   98678.0  "
      ]
     },
     "execution_count": 13,
     "metadata": {},
     "output_type": "execute_result"
    }
   ],
   "source": [
    "tour_df.describe().T"
   ]
  },
  {
   "cell_type": "markdown",
   "id": "f7702684",
   "metadata": {},
   "source": [
    "### 3. Fill in missing data based on information from the statistical summary"
   ]
  },
  {
   "cell_type": "code",
   "execution_count": null,
   "id": "0adad25c",
   "metadata": {},
   "outputs": [],
   "source": [
    "df['Age'] = df.groupby(['Destination'])['Age'].transform()"
   ]
  },
  {
   "cell_type": "markdown",
   "id": "ab683e08",
   "metadata": {},
   "source": [
    "### 4. Check the unique values in each column to asses cardinality and ensure theres no errors. What observations can you point out?"
   ]
  },
  {
   "cell_type": "markdown",
   "id": "8fa16433",
   "metadata": {},
   "source": [
    "### 5. Fix the Gender column"
   ]
  },
  {
   "cell_type": "code",
   "execution_count": 14,
   "id": "1c460847",
   "metadata": {},
   "outputs": [],
   "source": [
    "df['Gender'] = df['Gender'].str.replace('Fe Male', 'Female')"
   ]
  },
  {
   "cell_type": "code",
   "execution_count": 17,
   "id": "1b8c9625",
   "metadata": {},
   "outputs": [
    {
     "data": {
      "text/plain": [
       "Male      2916\n",
       "Female    1972\n",
       "Name: Gender, dtype: int64"
      ]
     },
     "execution_count": 17,
     "metadata": {},
     "output_type": "execute_result"
    }
   ],
   "source": [
    "df['Gender'].value_counts()"
   ]
  },
  {
   "cell_type": "markdown",
   "id": "f9ad29cb",
   "metadata": {},
   "source": [
    "### 6. Check the data types."
   ]
  },
  {
   "cell_type": "markdown",
   "id": "e4258093",
   "metadata": {},
   "source": [
    "## Feature Engineering\n"
   ]
  },
  {
   "cell_type": "markdown",
   "id": "3bfe1991",
   "metadata": {},
   "source": [
    "### 1. Create 5 bins for the age column. Display the distribution."
   ]
  },
  {
   "cell_type": "code",
   "execution_count": 18,
   "id": "144b74ff",
   "metadata": {},
   "outputs": [
    {
     "data": {
      "text/plain": [
       "0.25    31.0\n",
       "0.50    36.0\n",
       "0.75    44.0\n",
       "Name: Age, dtype: float64"
      ]
     },
     "execution_count": 18,
     "metadata": {},
     "output_type": "execute_result"
    }
   ],
   "source": [
    "df['Age'].quantile([0., 0.5, 0.75])"
   ]
  },
  {
   "cell_type": "code",
   "execution_count": null,
   "id": "8562127c",
   "metadata": {},
   "outputs": [],
   "source": []
  },
  {
   "cell_type": "markdown",
   "id": "a89f29b5",
   "metadata": {},
   "source": [
    "### 2. Create 9 bins for the income column. Display the distribution."
   ]
  },
  {
   "cell_type": "markdown",
   "id": "fbc826b2",
   "metadata": {},
   "source": [
    "## Create Custom Plot Functions"
   ]
  },
  {
   "cell_type": "markdown",
   "id": "9e301fd2",
   "metadata": {},
   "source": [
    "### Combo plot with boxplot and histogram"
   ]
  },
  {
   "cell_type": "code",
   "execution_count": 12,
   "id": "f2f81f48",
   "metadata": {},
   "outputs": [],
   "source": [
    "# Function to Plots a Combined Graph for Univariate Analysis of the Continous Variables\n",
    "def dist_box(data):\n",
    "\n",
    "    Name = data.name.upper()\n",
    "    fig, (ax_box, ax_dis) = plt.subplots(\n",
    "        nrows=2,\n",
    "        sharex=True,\n",
    "        gridspec_kw={\"height_ratios\": (0.25, 0.75)},\n",
    "        figsize=(8, 5),\n",
    "    )\n",
    "    mean = data.mean()\n",
    "    median = data.median()\n",
    "    mode = data.mode().tolist()[0]\n",
    "    sns.set_theme(style=\"white\")\n",
    "    fig.suptitle(\"SPREAD OF DATA FOR \" + Name, fontsize=18, fontweight=\"bold\")\n",
    "    sns.boxplot(x=data, showmeans=True, orient=\"h\", color=\"blue\", ax=ax_box)\n",
    "    ax_box.set(xlabel=\"\")\n",
    "    # just trying to make visualisation better. This will set background to white\n",
    "    sns.despine(top=True, right=True, left=True)  # to remove side line from graph\n",
    "    sns.distplot(data, kde=False, color=\"black\", ax=ax_dis)\n",
    "    ax_dis.axvline(mean, color=\"r\", linestyle=\"--\", linewidth=2)\n",
    "    ax_dis.axvline(median, color=\"g\", linestyle=\"-\", linewidth=2)\n",
    "    ax_dis.axvline(mode, color=\"orange\", linestyle=\"-\", linewidth=2)\n",
    "    plt.legend({\"Mean\": mean, \"Median\": median, \"Mode\": mode})"
   ]
  },
  {
   "cell_type": "markdown",
   "id": "f8e0d900",
   "metadata": {},
   "source": [
    "### Barplot with percentage labeled"
   ]
  },
  {
   "cell_type": "code",
   "execution_count": 13,
   "id": "230c5e93",
   "metadata": {},
   "outputs": [],
   "source": [
    "def bar_plot_with_percentage(data, column, title):\n",
    "    '''\n",
    "    This function takes a dataframe and a column name and plots a bar chart with percentage.\n",
    "    '''\n",
    "    total = len(data[column])\n",
    "    plt.figure(figsize=(10,5))\n",
    "    ax = sns.countplot(x=column, data=data, palette='viridis')\n",
    "    plt.title(title)\n",
    "    for p in ax.patches:\n",
    "        height = p.get_height()\n",
    "        ax.text(p.get_x()+p.get_width()/2.,\n",
    "                height + 3,\n",
    "                '{:1.2f}'.format(height/total),\n",
    "                ha='center')\n",
    "    plt.show()"
   ]
  },
  {
   "cell_type": "markdown",
   "id": "27b5e685",
   "metadata": {},
   "source": [
    "### Stacked Bar Chart"
   ]
  },
  {
   "cell_type": "code",
   "execution_count": 14,
   "id": "d4c8c445",
   "metadata": {},
   "outputs": [],
   "source": [
    "def stacked_bar_chart(data, column1, column2, title):\n",
    "    '''\n",
    "    This function takes a dataframe and two column names and plots a stacked bar chart.\n",
    "    '''\n",
    "    cross_tab = pd.crosstab(data[column1], data[column2], normalize='index')\n",
    "    cross_tab.plot(kind='bar', stacked=True, figsize=(10,5))\n",
    "    plt.title(title)\n",
    "    plt.show()"
   ]
  },
  {
   "cell_type": "markdown",
   "id": "e500c492",
   "metadata": {},
   "source": [
    "## Univariate Analysis"
   ]
  },
  {
   "cell_type": "markdown",
   "id": "f936b642",
   "metadata": {},
   "source": [
    "### 1. What is the distribution of age among the customers?"
   ]
  },
  {
   "cell_type": "markdown",
   "id": "d9d6fe0f",
   "metadata": {},
   "source": [
    "### 2. What is the distribution of the duration of the pitch?"
   ]
  },
  {
   "cell_type": "markdown",
   "id": "680d5584",
   "metadata": {},
   "source": [
    "### 3. What is the distribution of monthly income among the customers?"
   ]
  },
  {
   "cell_type": "markdown",
   "id": "c8b56b7d",
   "metadata": {},
   "source": [
    "### 4. What is the distribution of the number of trips among the customers?"
   ]
  },
  {
   "cell_type": "markdown",
   "id": "4e33206c",
   "metadata": {},
   "source": [
    "### 5. Check the ratio distribution of outliers."
   ]
  },
  {
   "cell_type": "markdown",
   "id": "289e44a0",
   "metadata": {},
   "source": [
    "### 6. Perform outlier treatment."
   ]
  },
  {
   "cell_type": "markdown",
   "id": "006f34a6",
   "metadata": {},
   "source": [
    "### 7. Explore the amount of people who visit. What observations can you point out?"
   ]
  },
  {
   "cell_type": "markdown",
   "id": "c1474a26",
   "metadata": {},
   "source": [
    "### 8. Check the distribution of occupation."
   ]
  },
  {
   "cell_type": "markdown",
   "id": "bd239740",
   "metadata": {},
   "source": [
    "### 9. What is the distribution of ‘CityTier’? What observations can you point out?"
   ]
  },
  {
   "cell_type": "markdown",
   "id": "d16d4392",
   "metadata": {},
   "source": [
    "### 10. What is the distribution of gender? What observations can you point out?"
   ]
  },
  {
   "cell_type": "markdown",
   "id": "6e775e67",
   "metadata": {},
   "source": [
    "### 11. What is the distribution of follow ups? What observations can you point out?"
   ]
  },
  {
   "cell_type": "markdown",
   "id": "8cc4bdc6",
   "metadata": {},
   "source": [
    "### 12. What is the distribution of the products pitched? What observations can you point out?"
   ]
  },
  {
   "cell_type": "markdown",
   "id": "fd35bb98",
   "metadata": {},
   "source": [
    "### 13. What is the distribution of the property ratings? What observations can you point out?"
   ]
  },
  {
   "cell_type": "markdown",
   "id": "37f4a27c",
   "metadata": {},
   "source": [
    "### 14. What is the distribution of type of contact? What observations can you point out?\n"
   ]
  },
  {
   "cell_type": "markdown",
   "id": "48334723",
   "metadata": {},
   "source": [
    "### 15. What is the distribution of the marital status? What observations can you point out?"
   ]
  },
  {
   "cell_type": "markdown",
   "id": "84d82c31",
   "metadata": {},
   "source": [
    "### 16. What is the distribution of the passport status? What observations can you point out?"
   ]
  },
  {
   "cell_type": "markdown",
   "id": "a6293118",
   "metadata": {},
   "source": [
    "### 17. What is the distribution of the pitch satisfaction score? What observations can you point out?"
   ]
  },
  {
   "cell_type": "markdown",
   "id": "ec8d5dc2",
   "metadata": {},
   "source": [
    "### 18. What is the distribution of customer designations? What observations can you point out?"
   ]
  },
  {
   "cell_type": "markdown",
   "id": "e72c9ff5",
   "metadata": {},
   "source": [
    "### 19. How many customers bought the product vs did not buy the product? What observations can you point out?"
   ]
  },
  {
   "cell_type": "markdown",
   "id": "2c328ced",
   "metadata": {},
   "source": [
    "### 20. What is the distribution of the number of children? What observations can you point out?"
   ]
  },
  {
   "cell_type": "markdown",
   "id": "556c7926",
   "metadata": {},
   "source": [
    "## Bivariate & Univariate Analysis"
   ]
  },
  {
   "cell_type": "markdown",
   "id": "95e351af",
   "metadata": {},
   "source": [
    "### 1. Explore the conversion rate based on the amount of people visiting."
   ]
  },
  {
   "cell_type": "markdown",
   "id": "ee1e962f",
   "metadata": {},
   "source": [
    "### 2. Explore the conversion rate based on their based on the number of follow ups."
   ]
  },
  {
   "cell_type": "markdown",
   "id": "0ac23fad",
   "metadata": {},
   "source": [
    "### 3. Explore the conversion rate based on marital status."
   ]
  },
  {
   "cell_type": "markdown",
   "id": "7d252e9b",
   "metadata": {},
   "source": [
    "### 4. Explore the conversion rate based on passport status."
   ]
  },
  {
   "cell_type": "markdown",
   "id": "5fda883b",
   "metadata": {},
   "source": [
    "### 5. Explore the conversion rate based on the product pitched."
   ]
  },
  {
   "cell_type": "markdown",
   "id": "0208dad6",
   "metadata": {},
   "source": [
    "### 6. Explore the relationship between the duration of the pitch and if a product was bought."
   ]
  },
  {
   "cell_type": "markdown",
   "id": "1baf7aa9",
   "metadata": {},
   "source": [
    "### 7. Explore the ralationship between a customer's monthly income and if a product was bought.\n"
   ]
  },
  {
   "cell_type": "markdown",
   "id": "ff466ff5",
   "metadata": {},
   "source": [
    "### 8. Explore the relationship between a customer's monthly income, if a product was bought, and their designation."
   ]
  },
  {
   "cell_type": "markdown",
   "id": "c8c8bb3a",
   "metadata": {},
   "source": [
    "### 9. Explore the relationship between a customer's age and if a product was bought.\n"
   ]
  },
  {
   "cell_type": "markdown",
   "id": "bbabc410",
   "metadata": {},
   "source": [
    "### 10. Create a heatmap for all the numerical columns. What observations can you point out?"
   ]
  },
  {
   "cell_type": "markdown",
   "id": "a5c3948f",
   "metadata": {},
   "source": [
    "## Conclusions"
   ]
  },
  {
   "cell_type": "code",
   "execution_count": null,
   "id": "9fe417f2",
   "metadata": {},
   "outputs": [],
   "source": []
  },
  {
   "cell_type": "markdown",
   "id": "e4d0385e",
   "metadata": {},
   "source": [
    "## Recommendations"
   ]
  },
  {
   "cell_type": "code",
   "execution_count": null,
   "id": "1b467450",
   "metadata": {},
   "outputs": [],
   "source": []
  }
 ],
 "metadata": {
  "kernelspec": {
   "display_name": "Python 3 (ipykernel)",
   "language": "python",
   "name": "python3"
  },
  "language_info": {
   "codemirror_mode": {
    "name": "ipython",
    "version": 3
   },
   "file_extension": ".py",
   "mimetype": "text/x-python",
   "name": "python",
   "nbconvert_exporter": "python",
   "pygments_lexer": "ipython3",
   "version": "3.9.2"
  }
 },
 "nbformat": 4,
 "nbformat_minor": 5
}
